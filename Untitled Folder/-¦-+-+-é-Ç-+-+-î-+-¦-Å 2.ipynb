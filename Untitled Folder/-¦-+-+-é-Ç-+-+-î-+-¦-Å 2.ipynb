{
 "cells": [
  {
   "cell_type": "code",
   "execution_count": 1,
   "id": "dd4a6e15",
   "metadata": {},
   "outputs": [],
   "source": [
    "import pandas as pd"
   ]
  },
  {
   "cell_type": "code",
   "execution_count": 3,
   "id": "4d2bf5c8",
   "metadata": {},
   "outputs": [
    {
     "data": {
      "text/html": [
       "<div>\n",
       "<style scoped>\n",
       "    .dataframe tbody tr th:only-of-type {\n",
       "        vertical-align: middle;\n",
       "    }\n",
       "\n",
       "    .dataframe tbody tr th {\n",
       "        vertical-align: top;\n",
       "    }\n",
       "\n",
       "    .dataframe thead th {\n",
       "        text-align: right;\n",
       "    }\n",
       "</style>\n",
       "<table border=\"1\" class=\"dataframe\">\n",
       "  <thead>\n",
       "    <tr style=\"text-align: right;\">\n",
       "      <th></th>\n",
       "      <th>Company Name</th>\n",
       "      <th>Country</th>\n",
       "      <th>Sales</th>\n",
       "      <th>Profit</th>\n",
       "      <th>Assets</th>\n",
       "      <th>Market Value</th>\n",
       "    </tr>\n",
       "  </thead>\n",
       "  <tbody>\n",
       "    <tr>\n",
       "      <th>0</th>\n",
       "      <td>JPMorgan Chase</td>\n",
       "      <td>United States</td>\n",
       "      <td>179930.0</td>\n",
       "      <td>41800.0</td>\n",
       "      <td>3744300.0</td>\n",
       "      <td>399590.0</td>\n",
       "    </tr>\n",
       "    <tr>\n",
       "      <th>1</th>\n",
       "      <td>Saudi Arabian Oil Company (Saudi Aramco)</td>\n",
       "      <td>Saudi Arabia</td>\n",
       "      <td>589470.0</td>\n",
       "      <td>156360.0</td>\n",
       "      <td>660990.0</td>\n",
       "      <td>2055220.0</td>\n",
       "    </tr>\n",
       "    <tr>\n",
       "      <th>2</th>\n",
       "      <td>ICBC</td>\n",
       "      <td>China</td>\n",
       "      <td>216770.0</td>\n",
       "      <td>52470.0</td>\n",
       "      <td>6116820.0</td>\n",
       "      <td>203010.0</td>\n",
       "    </tr>\n",
       "    <tr>\n",
       "      <th>3</th>\n",
       "      <td>China Construction Bank</td>\n",
       "      <td>China</td>\n",
       "      <td>203080.0</td>\n",
       "      <td>48250.0</td>\n",
       "      <td>4977480.0</td>\n",
       "      <td>172990.0</td>\n",
       "    </tr>\n",
       "    <tr>\n",
       "      <th>4</th>\n",
       "      <td>Agricultural Bank of China</td>\n",
       "      <td>China</td>\n",
       "      <td>186140.0</td>\n",
       "      <td>37920.0</td>\n",
       "      <td>5356860.0</td>\n",
       "      <td>141820.0</td>\n",
       "    </tr>\n",
       "    <tr>\n",
       "      <th>...</th>\n",
       "      <td>...</td>\n",
       "      <td>...</td>\n",
       "      <td>...</td>\n",
       "      <td>...</td>\n",
       "      <td>...</td>\n",
       "      <td>...</td>\n",
       "    </tr>\n",
       "    <tr>\n",
       "      <th>1994</th>\n",
       "      <td>Alfa Laval</td>\n",
       "      <td>Sweden</td>\n",
       "      <td>5350.0</td>\n",
       "      <td>489.5</td>\n",
       "      <td>7820.0</td>\n",
       "      <td>15600.0</td>\n",
       "    </tr>\n",
       "    <tr>\n",
       "      <th>1995</th>\n",
       "      <td>Gap</td>\n",
       "      <td>United States</td>\n",
       "      <td>15620.0</td>\n",
       "      <td>-202.0</td>\n",
       "      <td>11390.0</td>\n",
       "      <td>3170.0</td>\n",
       "    </tr>\n",
       "    <tr>\n",
       "      <th>1996</th>\n",
       "      <td>Yes Bank</td>\n",
       "      <td>India</td>\n",
       "      <td>3340.0</td>\n",
       "      <td>91.6</td>\n",
       "      <td>43220.0</td>\n",
       "      <td>5600.0</td>\n",
       "    </tr>\n",
       "    <tr>\n",
       "      <th>1997</th>\n",
       "      <td>BEKB-BCBE</td>\n",
       "      <td>Switzerland</td>\n",
       "      <td>556.0</td>\n",
       "      <td>167.1</td>\n",
       "      <td>42970.0</td>\n",
       "      <td>2490.0</td>\n",
       "    </tr>\n",
       "    <tr>\n",
       "      <th>1998</th>\n",
       "      <td>Ipsen</td>\n",
       "      <td>France</td>\n",
       "      <td>3180.0</td>\n",
       "      <td>681.7</td>\n",
       "      <td>5990.0</td>\n",
       "      <td>10210.0</td>\n",
       "    </tr>\n",
       "  </tbody>\n",
       "</table>\n",
       "<p>1999 rows × 6 columns</p>\n",
       "</div>"
      ],
      "text/plain": [
       "                                  Company Name        Country     Sales  \\\n",
       "0                               JPMorgan Chase  United States  179930.0   \n",
       "1     Saudi Arabian Oil Company (Saudi Aramco)   Saudi Arabia  589470.0   \n",
       "2                                         ICBC          China  216770.0   \n",
       "3                      China Construction Bank          China  203080.0   \n",
       "4                   Agricultural Bank of China          China  186140.0   \n",
       "...                                        ...            ...       ...   \n",
       "1994                                Alfa Laval         Sweden    5350.0   \n",
       "1995                                       Gap  United States   15620.0   \n",
       "1996                                  Yes Bank          India    3340.0   \n",
       "1997                                 BEKB-BCBE    Switzerland     556.0   \n",
       "1998                                     Ipsen         France    3180.0   \n",
       "\n",
       "        Profit     Assets  Market Value  \n",
       "0      41800.0  3744300.0      399590.0  \n",
       "1     156360.0   660990.0     2055220.0  \n",
       "2      52470.0  6116820.0      203010.0  \n",
       "3      48250.0  4977480.0      172990.0  \n",
       "4      37920.0  5356860.0      141820.0  \n",
       "...        ...        ...           ...  \n",
       "1994     489.5     7820.0       15600.0  \n",
       "1995    -202.0    11390.0        3170.0  \n",
       "1996      91.6    43220.0        5600.0  \n",
       "1997     167.1    42970.0        2490.0  \n",
       "1998     681.7     5990.0       10210.0  \n",
       "\n",
       "[1999 rows x 6 columns]"
      ]
     },
     "execution_count": 3,
     "metadata": {},
     "output_type": "execute_result"
    }
   ],
   "source": [
    "df = pd.read_csv('company.csv')\n",
    "df"
   ]
  },
  {
   "cell_type": "code",
   "execution_count": 4,
   "id": "468dcd67",
   "metadata": {},
   "outputs": [
    {
     "data": {
      "text/plain": [
       "<Axes: xlabel='Sales', ylabel='Assets'>"
      ]
     },
     "execution_count": 4,
     "metadata": {},
     "output_type": "execute_result"
    },
    {
     "data": {
      "image/png": "[encoded data removed]",
      "text/plain": [
       "<Figure size 640x480 with 1 Axes>"
      ]
     },
     "metadata": {},
     "output_type": "display_data"
    }
   ],
   "source": [
    "df.plot('Sales', 'Assets', kind = 'scatter')"
   ]
  },
  {
   "cell_type": "code",
   "execution_count": 5,
   "id": "f91b628e",
   "metadata": {},
   "outputs": [
    {
     "data": {
      "text/plain": [
       "<Axes: xlabel='Assets', ylabel='Market Value'>"
      ]
     },
     "execution_count": 5,
     "metadata": {},
     "output_type": "execute_result"
    },
    {
     "data": {
      "image/png": "[encoded data removed]",
      "text/plain": [
       "<Figure size 640x480 with 1 Axes>"
      ]
     },
     "metadata": {},
     "output_type": "display_data"
    }
   ],
   "source": [
    "df.plot('Assets', 'Market Value', kind = 'scatter')"
   ]
  },
  {
   "cell_type": "code",
   "execution_count": 6,
   "id": "6de250c0",
   "metadata": {},
   "outputs": [
    {
     "data": {
      "text/plain": [
       "12490.0"
      ]
     },
     "execution_count": 6,
     "metadata": {},
     "output_type": "execute_result"
    }
   ],
   "source": [
    "df['Sales'].median()"
   ]
  },
  {
   "cell_type": "code",
   "execution_count": 7,
   "id": "8591eb6f",
   "metadata": {},
   "outputs": [
    {
     "data": {
      "text/html": [
       "<div>\n",
       "<style scoped>\n",
       "    .dataframe tbody tr th:only-of-type {\n",
       "        vertical-align: middle;\n",
       "    }\n",
       "\n",
       "    .dataframe tbody tr th {\n",
       "        vertical-align: top;\n",
       "    }\n",
       "\n",
       "    .dataframe thead th {\n",
       "        text-align: right;\n",
       "    }\n",
       "</style>\n",
       "<table border=\"1\" class=\"dataframe\">\n",
       "  <thead>\n",
       "    <tr style=\"text-align: right;\">\n",
       "      <th></th>\n",
       "      <th>Market Value</th>\n",
       "      <th>Assets</th>\n",
       "    </tr>\n",
       "  </thead>\n",
       "  <tbody>\n",
       "    <tr>\n",
       "      <th>Market Value</th>\n",
       "      <td>1.000000</td>\n",
       "      <td>0.143806</td>\n",
       "    </tr>\n",
       "    <tr>\n",
       "      <th>Assets</th>\n",
       "      <td>0.143806</td>\n",
       "      <td>1.000000</td>\n",
       "    </tr>\n",
       "  </tbody>\n",
       "</table>\n",
       "</div>"
      ],
      "text/plain": [
       "              Market Value    Assets\n",
       "Market Value      1.000000  0.143806\n",
       "Assets            0.143806  1.000000"
      ]
     },
     "execution_count": 7,
     "metadata": {},
     "output_type": "execute_result"
    }
   ],
   "source": [
    "df[['Market Value', 'Assets']].corr()"
   ]
  },
  {
   "cell_type": "code",
   "execution_count": 8,
   "id": "75220431",
   "metadata": {},
   "outputs": [
    {
     "data": {
      "text/html": [
       "<div>\n",
       "<style scoped>\n",
       "    .dataframe tbody tr th:only-of-type {\n",
       "        vertical-align: middle;\n",
       "    }\n",
       "\n",
       "    .dataframe tbody tr th {\n",
       "        vertical-align: top;\n",
       "    }\n",
       "\n",
       "    .dataframe thead th {\n",
       "        text-align: right;\n",
       "    }\n",
       "</style>\n",
       "<table border=\"1\" class=\"dataframe\">\n",
       "  <thead>\n",
       "    <tr style=\"text-align: right;\">\n",
       "      <th></th>\n",
       "      <th>balance</th>\n",
       "      <th>balance_frequency</th>\n",
       "      <th>purchases</th>\n",
       "      <th>purchases_frequency</th>\n",
       "      <th>credit_limit</th>\n",
       "      <th>payments</th>\n",
       "    </tr>\n",
       "  </thead>\n",
       "  <tbody>\n",
       "    <tr>\n",
       "      <th>0</th>\n",
       "      <td>40.900749</td>\n",
       "      <td>0.818182</td>\n",
       "      <td>95.40</td>\n",
       "      <td>0.166667</td>\n",
       "      <td>1000.0</td>\n",
       "      <td>201.802084</td>\n",
       "    </tr>\n",
       "    <tr>\n",
       "      <th>1</th>\n",
       "      <td>1293.124939</td>\n",
       "      <td>1.000000</td>\n",
       "      <td>920.12</td>\n",
       "      <td>1.000000</td>\n",
       "      <td>1200.0</td>\n",
       "      <td>1083.301007</td>\n",
       "    </tr>\n",
       "    <tr>\n",
       "      <th>2</th>\n",
       "      <td>2016.684686</td>\n",
       "      <td>1.000000</td>\n",
       "      <td>176.68</td>\n",
       "      <td>0.666667</td>\n",
       "      <td>2000.0</td>\n",
       "      <td>223.068600</td>\n",
       "    </tr>\n",
       "    <tr>\n",
       "      <th>3</th>\n",
       "      <td>12136.219960</td>\n",
       "      <td>1.000000</td>\n",
       "      <td>3038.01</td>\n",
       "      <td>1.000000</td>\n",
       "      <td>13000.0</td>\n",
       "      <td>4230.323491</td>\n",
       "    </tr>\n",
       "    <tr>\n",
       "      <th>4</th>\n",
       "      <td>663.447810</td>\n",
       "      <td>0.727273</td>\n",
       "      <td>0.00</td>\n",
       "      <td>0.000000</td>\n",
       "      <td>1800.0</td>\n",
       "      <td>3067.057830</td>\n",
       "    </tr>\n",
       "    <tr>\n",
       "      <th>...</th>\n",
       "      <td>...</td>\n",
       "      <td>...</td>\n",
       "      <td>...</td>\n",
       "      <td>...</td>\n",
       "      <td>...</td>\n",
       "      <td>...</td>\n",
       "    </tr>\n",
       "    <tr>\n",
       "      <th>890</th>\n",
       "      <td>25.302553</td>\n",
       "      <td>0.714286</td>\n",
       "      <td>176.25</td>\n",
       "      <td>0.714286</td>\n",
       "      <td>1500.0</td>\n",
       "      <td>191.780690</td>\n",
       "    </tr>\n",
       "    <tr>\n",
       "      <th>891</th>\n",
       "      <td>356.108694</td>\n",
       "      <td>1.000000</td>\n",
       "      <td>465.00</td>\n",
       "      <td>0.142857</td>\n",
       "      <td>1000.0</td>\n",
       "      <td>118.775188</td>\n",
       "    </tr>\n",
       "    <tr>\n",
       "      <th>892</th>\n",
       "      <td>1055.087681</td>\n",
       "      <td>0.666667</td>\n",
       "      <td>0.00</td>\n",
       "      <td>0.000000</td>\n",
       "      <td>2000.0</td>\n",
       "      <td>54.795084</td>\n",
       "    </tr>\n",
       "    <tr>\n",
       "      <th>893</th>\n",
       "      <td>229.540018</td>\n",
       "      <td>1.000000</td>\n",
       "      <td>84.00</td>\n",
       "      <td>1.000000</td>\n",
       "      <td>1000.0</td>\n",
       "      <td>124.373736</td>\n",
       "    </tr>\n",
       "    <tr>\n",
       "      <th>894</th>\n",
       "      <td>130.838554</td>\n",
       "      <td>1.000000</td>\n",
       "      <td>591.24</td>\n",
       "      <td>1.000000</td>\n",
       "      <td>1000.0</td>\n",
       "      <td>475.523262</td>\n",
       "    </tr>\n",
       "  </tbody>\n",
       "</table>\n",
       "<p>895 rows × 6 columns</p>\n",
       "</div>"
      ],
      "text/plain": [
       "          balance  balance_frequency  purchases  purchases_frequency  \\\n",
       "0       40.900749           0.818182      95.40             0.166667   \n",
       "1     1293.124939           1.000000     920.12             1.000000   \n",
       "2     2016.684686           1.000000     176.68             0.666667   \n",
       "3    12136.219960           1.000000    3038.01             1.000000   \n",
       "4      663.447810           0.727273       0.00             0.000000   \n",
       "..            ...                ...        ...                  ...   \n",
       "890     25.302553           0.714286     176.25             0.714286   \n",
       "891    356.108694           1.000000     465.00             0.142857   \n",
       "892   1055.087681           0.666667       0.00             0.000000   \n",
       "893    229.540018           1.000000      84.00             1.000000   \n",
       "894    130.838554           1.000000     591.24             1.000000   \n",
       "\n",
       "     credit_limit     payments  \n",
       "0          1000.0   201.802084  \n",
       "1          1200.0  1083.301007  \n",
       "2          2000.0   223.068600  \n",
       "3         13000.0  4230.323491  \n",
       "4          1800.0  3067.057830  \n",
       "..            ...          ...  \n",
       "890        1500.0   191.780690  \n",
       "891        1000.0   118.775188  \n",
       "892        2000.0    54.795084  \n",
       "893        1000.0   124.373736  \n",
       "894        1000.0   475.523262  \n",
       "\n",
       "[895 rows x 6 columns]"
      ]
     },
     "execution_count": 8,
     "metadata": {},
     "output_type": "execute_result"
    }
   ],
   "source": [
    "df = pd.read_csv('credits_data.csv')\n",
    "df"
   ]
  },
  {
   "cell_type": "code",
   "execution_count": 9,
   "id": "6c00c1ee",
   "metadata": {},
   "outputs": [
    {
     "data": {
      "text/plain": [
       "862.276499"
      ]
     },
     "execution_count": 9,
     "metadata": {},
     "output_type": "execute_result"
    }
   ],
   "source": [
    "med = df['balance'].median()\n",
    "med"
   ]
  },
  {
   "cell_type": "code",
   "execution_count": 10,
   "id": "1c23342c",
   "metadata": {},
   "outputs": [
    {
     "data": {
      "text/plain": [
       "11845.84124"
      ]
     },
     "execution_count": 10,
     "metadata": {},
     "output_type": "execute_result"
    }
   ],
   "source": [
    "df[df['balance'] < med].sort_values('purchases', ascending = False).head(1)['payments'].values[0]"
   ]
  },
  {
   "cell_type": "code",
   "execution_count": 11,
   "id": "554899c3",
   "metadata": {},
   "outputs": [
    {
     "data": {
      "text/plain": [
       "11845.84124"
      ]
     },
     "execution_count": 11,
     "metadata": {},
     "output_type": "execute_result"
    }
   ],
   "source": [
    "df[df['balance'] < df['balance'].median()].sort_values('purchases', ascending = False).head(1)['payments'].values[0]"
   ]
  },
  {
   "cell_type": "code",
   "execution_count": 12,
   "id": "6fcbdffa",
   "metadata": {},
   "outputs": [
    {
     "data": {
      "text/plain": [
       "339.73833333333334"
      ]
     },
     "execution_count": 12,
     "metadata": {},
     "output_type": "execute_result"
    }
   ],
   "source": [
    "df[df['balance_frequency'] == 0]['purchases'].mean()"
   ]
  },
  {
   "cell_type": "code",
   "execution_count": 41,
   "id": "25574d5a",
   "metadata": {},
   "outputs": [],
   "source": [
    "import numpy as np\n",
    "lala = df.groupby(['balance_frequency'])['credit_limit'].agg(np.std)"
   ]
  },
  {
   "cell_type": "code",
   "execution_count": 44,
   "id": "2d5c338a",
   "metadata": {},
   "outputs": [
    {
     "data": {
      "text/plain": [
       "0.857143"
      ]
     },
     "execution_count": 44,
     "metadata": {},
     "output_type": "execute_result"
    }
   ],
   "source": [
    "minla = lala.min()\n",
    "final = lala[lala == minla].index[0]\n",
    "final"
   ]
  },
  {
   "cell_type": "code",
   "execution_count": 23,
   "id": "1ea4a05a",
   "metadata": {},
   "outputs": [],
   "source": [
    "q = df['payments'].quantile(0.75)"
   ]
  },
  {
   "cell_type": "code",
   "execution_count": 24,
   "id": "e47efa61",
   "metadata": {},
   "outputs": [],
   "source": [
    "df['coded'] = df['payments'].apply(lambda x: 12 if x <= q else 3)"
   ]
  },
  {
   "cell_type": "code",
   "execution_count": 26,
   "id": "e2b87f9d",
   "metadata": {},
   "outputs": [
    {
     "data": {
      "text/plain": [
       "15.215807431292182"
      ]
     },
     "execution_count": 26,
     "metadata": {},
     "output_type": "execute_result"
    }
   ],
   "source": [
    "l = df['coded'].var()\n",
    "l"
   ]
  },
  {
   "cell_type": "code",
   "execution_count": 30,
   "id": "e4a670c3",
   "metadata": {},
   "outputs": [],
   "source": [
    "import numpy as np"
   ]
  },
  {
   "cell_type": "code",
   "execution_count": 31,
   "id": "0c27e2e9",
   "metadata": {},
   "outputs": [
    {
     "data": {
      "text/plain": [
       "15.198806529134313"
      ]
     },
     "execution_count": 31,
     "metadata": {},
     "output_type": "execute_result"
    }
   ],
   "source": [
    "l = np.var(df['coded'])\n",
    "l"
   ]
  },
  {
   "cell_type": "code",
   "execution_count": 33,
   "id": "32e481e9",
   "metadata": {},
   "outputs": [],
   "source": [
    "mean = df['credit_limit'].mean()\n",
    "std = df['credit_limit'].std()"
   ]
  },
  {
   "cell_type": "code",
   "execution_count": 34,
   "id": "f8e496ce",
   "metadata": {},
   "outputs": [
    {
     "data": {
      "text/html": [
       "<div>\n",
       "<style scoped>\n",
       "    .dataframe tbody tr th:only-of-type {\n",
       "        vertical-align: middle;\n",
       "    }\n",
       "\n",
       "    .dataframe tbody tr th {\n",
       "        vertical-align: top;\n",
       "    }\n",
       "\n",
       "    .dataframe thead th {\n",
       "        text-align: right;\n",
       "    }\n",
       "</style>\n",
       "<table border=\"1\" class=\"dataframe\">\n",
       "  <thead>\n",
       "    <tr style=\"text-align: right;\">\n",
       "      <th></th>\n",
       "      <th>balance</th>\n",
       "      <th>balance_frequency</th>\n",
       "      <th>purchases</th>\n",
       "      <th>purchases_frequency</th>\n",
       "      <th>credit_limit</th>\n",
       "      <th>payments</th>\n",
       "      <th>coded</th>\n",
       "    </tr>\n",
       "  </thead>\n",
       "  <tbody>\n",
       "    <tr>\n",
       "      <th>3</th>\n",
       "      <td>12136.219960</td>\n",
       "      <td>1.000000</td>\n",
       "      <td>3038.01</td>\n",
       "      <td>1.000000</td>\n",
       "      <td>13000.0</td>\n",
       "      <td>4230.323491</td>\n",
       "      <td>3</td>\n",
       "    </tr>\n",
       "    <tr>\n",
       "      <th>5</th>\n",
       "      <td>4931.331857</td>\n",
       "      <td>1.000000</td>\n",
       "      <td>901.42</td>\n",
       "      <td>0.625000</td>\n",
       "      <td>12000.0</td>\n",
       "      <td>8113.297346</td>\n",
       "      <td>3</td>\n",
       "    </tr>\n",
       "    <tr>\n",
       "      <th>12</th>\n",
       "      <td>8504.876253</td>\n",
       "      <td>1.000000</td>\n",
       "      <td>6724.26</td>\n",
       "      <td>1.000000</td>\n",
       "      <td>17000.0</td>\n",
       "      <td>1888.756861</td>\n",
       "      <td>12</td>\n",
       "    </tr>\n",
       "    <tr>\n",
       "      <th>20</th>\n",
       "      <td>43.103899</td>\n",
       "      <td>0.454545</td>\n",
       "      <td>370.00</td>\n",
       "      <td>0.166667</td>\n",
       "      <td>23000.0</td>\n",
       "      <td>1212.054219</td>\n",
       "      <td>12</td>\n",
       "    </tr>\n",
       "    <tr>\n",
       "      <th>28</th>\n",
       "      <td>7645.108427</td>\n",
       "      <td>1.000000</td>\n",
       "      <td>4693.15</td>\n",
       "      <td>0.500000</td>\n",
       "      <td>13500.0</td>\n",
       "      <td>4786.648680</td>\n",
       "      <td>3</td>\n",
       "    </tr>\n",
       "    <tr>\n",
       "      <th>...</th>\n",
       "      <td>...</td>\n",
       "      <td>...</td>\n",
       "      <td>...</td>\n",
       "      <td>...</td>\n",
       "      <td>...</td>\n",
       "      <td>...</td>\n",
       "      <td>...</td>\n",
       "    </tr>\n",
       "    <tr>\n",
       "      <th>604</th>\n",
       "      <td>5366.532372</td>\n",
       "      <td>1.000000</td>\n",
       "      <td>5251.08</td>\n",
       "      <td>1.000000</td>\n",
       "      <td>11000.0</td>\n",
       "      <td>1429.348596</td>\n",
       "      <td>12</td>\n",
       "    </tr>\n",
       "    <tr>\n",
       "      <th>660</th>\n",
       "      <td>8465.296023</td>\n",
       "      <td>1.000000</td>\n",
       "      <td>1066.91</td>\n",
       "      <td>1.000000</td>\n",
       "      <td>17150.0</td>\n",
       "      <td>1742.775616</td>\n",
       "      <td>12</td>\n",
       "    </tr>\n",
       "    <tr>\n",
       "      <th>705</th>\n",
       "      <td>5890.807655</td>\n",
       "      <td>1.000000</td>\n",
       "      <td>901.60</td>\n",
       "      <td>0.750000</td>\n",
       "      <td>10750.0</td>\n",
       "      <td>1366.889828</td>\n",
       "      <td>12</td>\n",
       "    </tr>\n",
       "    <tr>\n",
       "      <th>733</th>\n",
       "      <td>2479.815703</td>\n",
       "      <td>1.000000</td>\n",
       "      <td>5812.17</td>\n",
       "      <td>0.916667</td>\n",
       "      <td>10500.0</td>\n",
       "      <td>4586.498256</td>\n",
       "      <td>3</td>\n",
       "    </tr>\n",
       "    <tr>\n",
       "      <th>803</th>\n",
       "      <td>390.077505</td>\n",
       "      <td>0.636364</td>\n",
       "      <td>1156.00</td>\n",
       "      <td>0.083333</td>\n",
       "      <td>10500.0</td>\n",
       "      <td>1704.470909</td>\n",
       "      <td>12</td>\n",
       "    </tr>\n",
       "  </tbody>\n",
       "</table>\n",
       "<p>71 rows × 7 columns</p>\n",
       "</div>"
      ],
      "text/plain": [
       "          balance  balance_frequency  purchases  purchases_frequency  \\\n",
       "3    12136.219960           1.000000    3038.01             1.000000   \n",
       "5     4931.331857           1.000000     901.42             0.625000   \n",
       "12    8504.876253           1.000000    6724.26             1.000000   \n",
       "20      43.103899           0.454545     370.00             0.166667   \n",
       "28    7645.108427           1.000000    4693.15             0.500000   \n",
       "..            ...                ...        ...                  ...   \n",
       "604   5366.532372           1.000000    5251.08             1.000000   \n",
       "660   8465.296023           1.000000    1066.91             1.000000   \n",
       "705   5890.807655           1.000000     901.60             0.750000   \n",
       "733   2479.815703           1.000000    5812.17             0.916667   \n",
       "803    390.077505           0.636364    1156.00             0.083333   \n",
       "\n",
       "     credit_limit     payments  coded  \n",
       "3         13000.0  4230.323491      3  \n",
       "5         12000.0  8113.297346      3  \n",
       "12        17000.0  1888.756861     12  \n",
       "20        23000.0  1212.054219     12  \n",
       "28        13500.0  4786.648680      3  \n",
       "..            ...          ...    ...  \n",
       "604       11000.0  1429.348596     12  \n",
       "660       17150.0  1742.775616     12  \n",
       "705       10750.0  1366.889828     12  \n",
       "733       10500.0  4586.498256      3  \n",
       "803       10500.0  1704.470909     12  \n",
       "\n",
       "[71 rows x 7 columns]"
      ]
     },
     "execution_count": 34,
     "metadata": {},
     "output_type": "execute_result"
    }
   ],
   "source": [
    "df[(df['credit_limit'] <= mean - 1.5* std) | (df['credit_limit'] >= mean + 1.5* std)]"
   ]
  },
  {
   "cell_type": "code",
   "execution_count": 35,
   "id": "36ed8252",
   "metadata": {},
   "outputs": [
    {
     "data": {
      "text/plain": [
       "balance                1.000000\n",
       "balance_frequency      0.318065\n",
       "purchases              0.194961\n",
       "purchases_frequency   -0.077365\n",
       "credit_limit           0.548187\n",
       "payments               0.309552\n",
       "coded                 -0.303145\n",
       "Name: balance, dtype: float64"
      ]
     },
     "execution_count": 35,
     "metadata": {},
     "output_type": "execute_result"
    }
   ],
   "source": [
    "df.corr(numeric_only = True)['balance']"
   ]
  },
  {
   "cell_type": "code",
   "execution_count": 37,
   "id": "855bc75c",
   "metadata": {},
   "outputs": [
    {
     "data": {
      "text/plain": [
       "const      -36.562121\n",
       "payments     0.604035\n",
       "dtype: float64"
      ]
     },
     "execution_count": 37,
     "metadata": {},
     "output_type": "execute_result"
    }
   ],
   "source": [
    "import statsmodels.api as sm\n",
    "X = sm.add_constant(df['payments'])\n",
    "Y = df['purchases']\n",
    "model = sm.OLS(Y, X).fit()\n",
    "model.params"
   ]
  },
  {
   "cell_type": "code",
   "execution_count": 38,
   "id": "60ee8ea9",
   "metadata": {},
   "outputs": [],
   "source": [
    "pred = model.predict(X)"
   ]
  },
  {
   "cell_type": "code",
   "execution_count": 39,
   "id": "a3be7279",
   "metadata": {},
   "outputs": [
    {
     "data": {
      "text/plain": [
       "971.5231300062006"
      ]
     },
     "execution_count": 39,
     "metadata": {},
     "output_type": "execute_result"
    }
   ],
   "source": [
    "sum(abs(Y - pred)/ len(Y))"
   ]
  },
  {
   "cell_type": "code",
   "execution_count": null,
   "id": "1a85cc8c",
   "metadata": {},
   "outputs": [],
   "source": []
  }
 ],
 "metadata": {
  "kernelspec": {
   "display_name": "Python 3 (ipykernel)",
   "language": "python",
   "name": "python3"
  },
  "language_info": {
   "codemirror_mode": {
    "name": "ipython",
    "version": 3
   },
   "file_extension": ".py",
   "mimetype": "text/x-python",
   "name": "python",
   "nbconvert_exporter": "python",
   "pygments_lexer": "ipython3",
   "version": "3.11.5"
  }
 },
 "nbformat": 4,
 "nbformat_minor": 5
}
